{
 "cells": [
  {
   "cell_type": "markdown",
   "metadata": {},
   "source": [
    "---\n",
    "---"
   ]
  },
  {
   "cell_type": "code",
   "execution_count": 1,
   "metadata": {},
   "outputs": [],
   "source": [
    "from moviepy.editor import VideoFileClip\n",
    "from pathlib import Path\n",
    "import speech_recognition as sr\n",
    "from pytube import YouTube\n",
    "from pprint import pprint\n",
    "from PIL import Image\n",
    "import matplotlib.pyplot as plt\n",
    "from dotenv import load_dotenv\n",
    "import os"
   ]
  },
  {
   "cell_type": "code",
   "execution_count": 2,
   "metadata": {},
   "outputs": [],
   "source": [
    "# Load environment variables first\n",
    "load_dotenv()\n",
    "OPENAI_API_TOKEN = os.getenv(\"OPENAI_API_KEY\")"
   ]
  },
  {
   "cell_type": "code",
   "execution_count": 3,
   "metadata": {},
   "outputs": [],
   "source": [
    "# Create directories first\n",
    "output_base = \"./content/\"\n",
    "os.makedirs(os.path.join(output_base, \"video_data\"), exist_ok=True)\n",
    "os.makedirs(os.path.join(output_base, \"mixed_data\"), exist_ok=True)"
   ]
  },
  {
   "cell_type": "code",
   "execution_count": 4,
   "metadata": {},
   "outputs": [],
   "source": [
    "# Define paths\n",
    "output_video_path = os.path.join(output_base, \"video_data\")\n",
    "output_folder = os.path.join(output_base, \"mixed_data\")\n",
    "output_audio_path = os.path.join(output_folder, \"output_audio.wav\")"
   ]
  },
  {
   "cell_type": "code",
   "execution_count": 5,
   "metadata": {},
   "outputs": [],
   "source": [
    "from pytube import YouTube\n",
    "import time\n",
    "\n",
    "def download_video(url, output_path):\n",
    "    try:\n",
    "        yt = YouTube(\n",
    "            url,\n",
    "            use_oauth=True,\n",
    "            allow_oauth_cache=True\n",
    "        )\n",
    "        \n",
    "        # Add explicit OAuth verification\n",
    "        print(\"Authenticating...\")\n",
    "        yt.bypass_age_gate()\n",
    "        \n",
    "        # Give time for authentication completion\n",
    "        print(\"If prompted, please complete browser authentication\")\n",
    "        time.sleep(10)  # Give user time to complete auth\n",
    "        \n",
    "        metadata = {\n",
    "            \"Author\": getattr(yt, 'author', 'Unknown'),\n",
    "            \"Title\": getattr(yt, 'title', 'Untitled'),\n",
    "            \"Views\": getattr(yt, 'views', 0)\n",
    "        }\n",
    "        \n",
    "        yt.streams.get_highest_resolution().download(\n",
    "            output_path=output_path,\n",
    "            filename=\"input_vid.mp4\"\n",
    "        )\n",
    "        return metadata\n",
    "        \n",
    "    except Exception as e:\n",
    "        print(f\"Full error details: {str(e)}\")\n",
    "        return {}"
   ]
  },
  {
   "cell_type": "code",
   "execution_count": 6,
   "metadata": {},
   "outputs": [
    {
     "name": "stdout",
     "output_type": "stream",
     "text": [
      "Authenticating...\n",
      "Please open https://www.google.com/device and input code ZYJ-DCG-DLFG\n",
      "Full error details: HTTP Error 403: Forbidden\n",
      "{}\n"
     ]
    }
   ],
   "source": [
    "video_url = \"https://youtu.be/3dhcmeOTZ_Q\"\n",
    "metadata_vid = download_video(video_url, output_video_path)\n",
    "print(metadata_vid)"
   ]
  },
  {
   "cell_type": "code",
   "execution_count": null,
   "metadata": {},
   "outputs": [],
   "source": []
  }
 ],
 "metadata": {
  "kernelspec": {
   "display_name": "Python 3",
   "language": "python",
   "name": "python3"
  },
  "language_info": {
   "codemirror_mode": {
    "name": "ipython",
    "version": 3
   },
   "file_extension": ".py",
   "mimetype": "text/x-python",
   "name": "python",
   "nbconvert_exporter": "python",
   "pygments_lexer": "ipython3",
   "version": "3.10.0"
  }
 },
 "nbformat": 4,
 "nbformat_minor": 2
}
